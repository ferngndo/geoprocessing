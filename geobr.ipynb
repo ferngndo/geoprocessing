{
  "nbformat": 4,
  "nbformat_minor": 0,
  "metadata": {
    "colab": {
      "provenance": [],
      "authorship_tag": "ABX9TyMX2r8o44MJxkEKgWQsSLjR",
      "include_colab_link": true
    },
    "kernelspec": {
      "name": "python3",
      "display_name": "Python 3"
    },
    "language_info": {
      "name": "python"
    }
  },
  "cells": [
    {
      "cell_type": "markdown",
      "metadata": {
        "id": "view-in-github",
        "colab_type": "text"
      },
      "source": [
        "<a href=\"https://colab.research.google.com/github/ferngndo/geoprocessing/blob/main/geobr.ipynb\" target=\"_parent\"><img src=\"https://colab.research.google.com/assets/colab-badge.svg\" alt=\"Open In Colab\"/></a>"
      ]
    },
    {
      "cell_type": "code",
      "execution_count": 15,
      "metadata": {
        "id": "GcNXcYjqwekZ"
      },
      "outputs": [],
      "source": [
        "!pip install geopandas descartes geobr rtree -q"
      ]
    },
    {
      "cell_type": "code",
      "source": [
        "import geopandas as gpd\n",
        "import rtree\n",
        "import geobr\n",
        "import matplotlib.pyplot as plt"
      ],
      "metadata": {
        "id": "NvV0ieFLwnGg"
      },
      "execution_count": 16,
      "outputs": []
    },
    {
      "cell_type": "code",
      "source": [
        "mun = geobr.read_municipality(code_muni=33, year=2020)\n",
        "mun"
      ],
      "metadata": {
        "id": "FubLPxxNzQW7"
      },
      "execution_count": null,
      "outputs": []
    },
    {
      "cell_type": "code",
      "source": [
        "gdf = mun[mun.name_muni=='Rio de Janeiro']\n",
        "gdf"
      ],
      "metadata": {
        "id": "V9tbpGE7zQUc"
      },
      "execution_count": null,
      "outputs": []
    },
    {
      "cell_type": "code",
      "source": [
        "gdf.plot()"
      ],
      "metadata": {
        "id": "kKfCL3OhzQSM"
      },
      "execution_count": null,
      "outputs": []
    },
    {
      "cell_type": "code",
      "source": [
        "gdf.crs = \"EPSG:4326\"\n",
        "gdf.crs"
      ],
      "metadata": {
        "id": "hVMM0PTtzQPp"
      },
      "execution_count": null,
      "outputs": []
    },
    {
      "cell_type": "code",
      "source": [
        "uc_gdf= geobr.read_conservation_units(date=201909, simplified=True, verbose=False)\n",
        "uc_gdf.head()"
      ],
      "metadata": {
        "id": "BJyoKMSKzQNE"
      },
      "execution_count": null,
      "outputs": []
    },
    {
      "cell_type": "code",
      "source": [
        "uc_gdf.crs = \"EPSG:4326\"\n",
        "uc_gdf.crs"
      ],
      "metadata": {
        "id": "_By8HNu3zQKu"
      },
      "execution_count": null,
      "outputs": []
    },
    {
      "cell_type": "code",
      "source": [
        "uc_gdf.crs==gdf.crs"
      ],
      "metadata": {
        "id": "07KHq9UUzyQM"
      },
      "execution_count": null,
      "outputs": []
    },
    {
      "cell_type": "code",
      "source": [],
      "metadata": {
        "id": "XNJGkAg3zyN4"
      },
      "execution_count": null,
      "outputs": []
    },
    {
      "cell_type": "code",
      "source": [],
      "metadata": {
        "id": "CJZxwDFHzyLX"
      },
      "execution_count": null,
      "outputs": []
    },
    {
      "cell_type": "code",
      "source": [],
      "metadata": {
        "id": "B5rSLXi5zyI3"
      },
      "execution_count": null,
      "outputs": []
    }
  ]
}