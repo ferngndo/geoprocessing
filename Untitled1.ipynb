{
  "nbformat": 4,
  "nbformat_minor": 0,
  "metadata": {
    "colab": {
      "provenance": [],
      "authorship_tag": "ABX9TyOU+Y8ioMdvM1DETZM0yEo0",
      "include_colab_link": true
    },
    "kernelspec": {
      "name": "python3",
      "display_name": "Python 3"
    },
    "language_info": {
      "name": "python"
    }
  },
  "cells": [
    {
      "cell_type": "markdown",
      "metadata": {
        "id": "view-in-github",
        "colab_type": "text"
      },
      "source": [
        "<a href=\"https://colab.research.google.com/github/ferngndo/geoprocessing/blob/main/Untitled1.ipynb\" target=\"_parent\"><img src=\"https://colab.research.google.com/assets/colab-badge.svg\" alt=\"Open In Colab\"/></a>"
      ]
    },
    {
      "cell_type": "code",
      "source": [
        "from shapely.geometry import Point, LineString, Polygon\n",
        "\n",
        "p1=Point(5.4,3.0)\n",
        "p2=Point(10,-7)\n",
        "p3=Point(80,25)\n",
        "p3D=Point(5.4,3.0,25)"
      ],
      "metadata": {
        "id": "I7LDi4A6xehX"
      },
      "execution_count": 1,
      "outputs": []
    },
    {
      "cell_type": "code",
      "source": [
        "print(p1)\n",
        "print(p3D)\n",
        "print(type(p2))\n",
        "print(type(p3))"
      ],
      "metadata": {
        "colab": {
          "base_uri": "https://localhost:8080/"
        },
        "id": "G--bDbvNzdPi",
        "outputId": "eb10fd24-0eee-44eb-f0a7-1482293d5c4c"
      },
      "execution_count": 2,
      "outputs": [
        {
          "output_type": "stream",
          "name": "stdout",
          "text": [
            "POINT (5.4 3)\n",
            "POINT Z (5.4 3 25)\n",
            "<class 'shapely.geometry.point.Point'>\n",
            "<class 'shapely.geometry.point.Point'>\n"
          ]
        }
      ]
    },
    {
      "cell_type": "code",
      "source": [
        "# Armazene as coordenadas do ponto na variável p_coord\n",
        "p_coord=p1.coords\n",
        "\n",
        "# Verifique o tipo da variável p_coord\n",
        "type(p_coord)"
      ],
      "metadata": {
        "colab": {
          "base_uri": "https://localhost:8080/",
          "height": 187
        },
        "id": "aiYFJRyuBul3",
        "outputId": "ff708f6a-e7d0-45f5-98c6-e0fbcbab6efe"
      },
      "execution_count": 3,
      "outputs": [
        {
          "output_type": "execute_result",
          "data": {
            "text/plain": [
              "shapely.coords.CoordinateSequence"
            ],
            "text/html": [
              "<div style=\"max-width:800px; border: 1px solid var(--colab-border-color);\"><style>\n",
              "      pre.function-repr-contents {\n",
              "        overflow-x: auto;\n",
              "        padding: 8px 12px;\n",
              "        max-height: 500px;\n",
              "      }\n",
              "\n",
              "      pre.function-repr-contents.function-repr-contents-collapsed {\n",
              "        cursor: pointer;\n",
              "        max-height: 100px;\n",
              "      }\n",
              "    </style>\n",
              "    <pre style=\"white-space: initial; background:\n",
              "         var(--colab-secondary-surface-color); padding: 8px 12px;\n",
              "         border-bottom: 1px solid var(--colab-border-color);\"><b>shapely.coords.CoordinateSequence</b><br/>def __init__(coords)</pre><pre class=\"function-repr-contents function-repr-contents-collapsed\" style=\"\"><a class=\"filepath\" style=\"display:none\" href=\"#\">/usr/local/lib/python3.10/dist-packages/shapely/coords.py</a>Iterative access to coordinate tuples from the parent geometry&#x27;s coordinate\n",
              "sequence.\n",
              "\n",
              "Example:\n",
              "\n",
              "  &gt;&gt;&gt; from shapely.wkt import loads\n",
              "  &gt;&gt;&gt; g = loads(&#x27;POINT (0.0 0.0)&#x27;)\n",
              "  &gt;&gt;&gt; list(g.coords)\n",
              "  [(0.0, 0.0)]</pre>\n",
              "      <script>\n",
              "      if (google.colab.kernel.accessAllowed && google.colab.files && google.colab.files.view) {\n",
              "        for (const element of document.querySelectorAll('.filepath')) {\n",
              "          element.style.display = 'block'\n",
              "          element.onclick = (event) => {\n",
              "            event.preventDefault();\n",
              "            event.stopPropagation();\n",
              "            google.colab.files.view(element.textContent, 6);\n",
              "          };\n",
              "        }\n",
              "      }\n",
              "      for (const element of document.querySelectorAll('.function-repr-contents')) {\n",
              "        element.onclick = (event) => {\n",
              "          event.preventDefault();\n",
              "          event.stopPropagation();\n",
              "          element.classList.toggle('function-repr-contents-collapsed');\n",
              "        };\n",
              "      }\n",
              "      </script>\n",
              "      </div>"
            ]
          },
          "metadata": {},
          "execution_count": 3
        }
      ]
    },
    {
      "cell_type": "code",
      "source": [
        "xy=p_coord.xy\n",
        "x=p1.x\n",
        "y=p1.y"
      ],
      "metadata": {
        "id": "FgV-PSUh_tQ7"
      },
      "execution_count": 4,
      "outputs": []
    },
    {
      "cell_type": "code",
      "source": [
        "print(xy)\n",
        "print(x)\n",
        "print(y)"
      ],
      "metadata": {
        "colab": {
          "base_uri": "https://localhost:8080/"
        },
        "id": "5bhA7KCFS9hW",
        "outputId": "f0e1321d-f803-4c69-92e9-1e30eeeee9b8"
      },
      "execution_count": 5,
      "outputs": [
        {
          "output_type": "stream",
          "name": "stdout",
          "text": [
            "(array('d', [5.4]), array('d', [3.0]))\n",
            "5.4\n",
            "3.0\n"
          ]
        }
      ]
    },
    {
      "cell_type": "code",
      "source": [
        "p_dist=p1.distance(p2)\n",
        "print(\"A distância entre os pontos é de %s graus decimais\"%(round(p_dist,2)))"
      ],
      "metadata": {
        "colab": {
          "base_uri": "https://localhost:8080/"
        },
        "id": "6NnLRnZzTsFH",
        "outputId": "45973cc6-ef0f-4008-a1d6-68a063f91f04"
      },
      "execution_count": 6,
      "outputs": [
        {
          "output_type": "stream",
          "name": "stdout",
          "text": [
            "A distância entre os pontos é de 11.01 graus decimais\n"
          ]
        }
      ]
    }
  ]
}